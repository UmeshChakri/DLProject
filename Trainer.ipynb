{
 "cells": [
  {
   "cell_type": "code",
   "execution_count": 1,
   "metadata": {},
   "outputs": [
    {
     "name": "stderr",
     "output_type": "stream",
     "text": [
      "2022-05-03 03:29:38.828353: I tensorflow/core/util/util.cc:168] oneDNN custom operations are on. You may see slightly different numerical results due to floating-point round-off errors from different computation orders. To turn them off, set the environment variable `TF_ENABLE_ONEDNN_OPTS=0`.\n",
      "2022-05-03 03:29:38.831090: W tensorflow/stream_executor/platform/default/dso_loader.cc:64] Could not load dynamic library 'libcudart.so.11.0'; dlerror: libcudart.so.11.0: cannot open shared object file: No such file or directory\n",
      "2022-05-03 03:29:38.831100: I tensorflow/stream_executor/cuda/cudart_stub.cc:29] Ignore above cudart dlerror if you do not have a GPU set up on your machine.\n"
     ]
    },
    {
     "name": "stdout",
     "output_type": "stream",
     "text": [
      "WARNING:tensorflow:From /home/hemanth/anaconda3/lib/python3.9/site-packages/tensorflow/python/compat/v2_compat.py:107: disable_resource_variables (from tensorflow.python.ops.variable_scope) is deprecated and will be removed in a future version.\n",
      "Instructions for updating:\n",
      "non-resource variables are not supported in the long term\n"
     ]
    }
   ],
   "source": [
    "import tensorflow as tf\n",
    "import tflearn\n",
    "from tflearn.layers.conv import conv_2d,max_pool_2d\n",
    "from tflearn.layers.core import input_data,dropout,fully_connected\n",
    "from tflearn.layers.estimator import regression\n",
    "import numpy as np\n",
    "import cv2\n",
    "from sklearn.utils import shuffle"
   ]
  },
  {
   "cell_type": "code",
   "execution_count": 2,
   "metadata": {},
   "outputs": [],
   "source": [
    "\n",
    "letters = ['a', 'b', 'c', 'd', 'f', 'g', 'k', 'o', 'p', 'y']\n",
    "# letters = ['a', 'd', 'f']\n",
    "x_train = []\n",
    "\n",
    "for l in letters:\n",
    "    for i in range(0, 1000):\n",
    "        image = cv2.imread('Dataset/' +l +'Images/'+ l +'_' + str(i) + '.png')\n",
    "        gray_image = cv2.cvtColor(image, cv2.COLOR_BGR2GRAY)\n",
    "        x_train.append(gray_image.reshape(89, 100, 1))\n",
    "    \n",
    "# Create OutputVector\n",
    "\n",
    "y_train = []\n",
    "    \n",
    "for j in range(len(letters)):\n",
    "    arr = [0]*len(letters)\n",
    "    arr[j] = 1\n",
    "    for i in range(0, 1000):\n",
    "        y_train.append(arr)\n",
    "        \n",
    "\n",
    "x_test = []\n",
    "    \n",
    "for l in letters:\n",
    "    for i in range(0, 100):\n",
    "        image = cv2.imread('Dataset/' +l +'Test/'+ l +'_' + str(i) + '.png')\n",
    "        gray_image = cv2.cvtColor(image, cv2.COLOR_BGR2GRAY)\n",
    "        x_test.append(gray_image.reshape(89, 100, 1))\n",
    "\n",
    "y_test = []\n",
    "    \n",
    "for j in range(len(letters)):\n",
    "    arr = [0]*len(letters)\n",
    "    arr[j] = 1\n",
    "    for i in range(0, 100):\n",
    "        y_test.append(arr)\n",
    "        \n",
    "test_set = (x_test ,y_test)\n"
   ]
  },
  {
   "cell_type": "code",
   "execution_count": 3,
   "metadata": {},
   "outputs": [
    {
     "name": "stdout",
     "output_type": "stream",
     "text": [
      "WARNING:tensorflow:From /home/hemanth/anaconda3/lib/python3.9/site-packages/tflearn/initializations.py:110: calling UniformUnitScaling.__init__ (from tensorflow.python.ops.init_ops) with dtype is deprecated and will be removed in a future version.\n",
      "Instructions for updating:\n",
      "Call initializer instance with the dtype argument instead of passing it to the constructor\n",
      "WARNING:tensorflow:From /home/hemanth/anaconda3/lib/python3.9/site-packages/tensorflow/python/util/deprecation.py:561: UniformUnitScaling.__init__ (from tensorflow.python.ops.init_ops) is deprecated and will be removed in a future version.\n",
      "Instructions for updating:\n",
      "Use tf.initializers.variance_scaling instead with distribution=uniform to get equivalent behavior.\n",
      "WARNING:tensorflow:From /home/hemanth/anaconda3/lib/python3.9/site-packages/tflearn/initializations.py:164: calling TruncatedNormal.__init__ (from tensorflow.python.ops.init_ops) with dtype is deprecated and will be removed in a future version.\n",
      "Instructions for updating:\n",
      "Call initializer instance with the dtype argument instead of passing it to the constructor\n",
      "WARNING:tensorflow:From /home/hemanth/anaconda3/lib/python3.9/site-packages/tensorflow/python/util/dispatch.py:1082: calling dropout (from tensorflow.python.ops.nn_ops) with keep_prob is deprecated and will be removed in a future version.\n",
      "Instructions for updating:\n",
      "Please use `rate` instead of `keep_prob`. Rate should be set to `rate = 1 - keep_prob`.\n"
     ]
    },
    {
     "name": "stderr",
     "output_type": "stream",
     "text": [
      "2022-05-03 03:29:40.558813: W tensorflow/stream_executor/platform/default/dso_loader.cc:64] Could not load dynamic library 'libcuda.so.1'; dlerror: libcuda.so.1: cannot open shared object file: No such file or directory; LD_LIBRARY_PATH: /home/hemanth/anaconda3/lib/python3.9/site-packages/cv2/../../lib64:\n",
      "2022-05-03 03:29:40.558833: W tensorflow/stream_executor/cuda/cuda_driver.cc:269] failed call to cuInit: UNKNOWN ERROR (303)\n",
      "2022-05-03 03:29:40.558844: I tensorflow/stream_executor/cuda/cuda_diagnostics.cc:156] kernel driver does not appear to be running on this host (hemanth-HP-Pavilion-x360-Convertible-15-dq2xxx): /proc/driver/nvidia/version does not exist\n",
      "2022-05-03 03:29:40.558970: I tensorflow/core/platform/cpu_feature_guard.cc:193] This TensorFlow binary is optimized with oneAPI Deep Neural Network Library (oneDNN) to use the following CPU instructions in performance-critical operations:  AVX2 AVX512F AVX512_VNNI FMA\n",
      "To enable them in other operations, rebuild TensorFlow with the appropriate compiler flags.\n",
      "2022-05-03 03:29:40.766940: I tensorflow/compiler/mlir/mlir_graph_optimization_pass.cc:354] MLIR V1 optimization pass is not enabled\n"
     ]
    }
   ],
   "source": [
    "#Model\n",
    "\n",
    "tf.compat.v1.reset_default_graph()\n",
    "out=input_data(shape=[None,89,100,1],name='input')\n",
    "out=conv_2d(out,32,2,activation='relu')\n",
    "out=max_pool_2d(out,2)\n",
    "out=conv_2d(out,64,2,activation='relu')\n",
    "out=max_pool_2d(out,2)\n",
    "\n",
    "out=conv_2d(out,128,2,activation='relu')\n",
    "out=max_pool_2d(out,2)\n",
    "\n",
    "out=conv_2d(out,256,2,activation='relu')\n",
    "out=max_pool_2d(out,2)\n",
    "\n",
    "out=conv_2d(out,256,2,activation='relu')\n",
    "out=max_pool_2d(out,2)\n",
    "\n",
    "out=conv_2d(out,128,2,activation='relu')\n",
    "out=max_pool_2d(out,2)\n",
    "\n",
    "out=conv_2d(out,64,2,activation='relu')\n",
    "out=max_pool_2d(out,2)\n",
    "\n",
    "out=fully_connected(out,1000,activation='relu')\n",
    "out=dropout(out,0.75)\n",
    "\n",
    "out=fully_connected(out,10,activation='softmax')\n",
    "\n",
    "out=regression(out,optimizer='adam',learning_rate=0.001,loss='categorical_crossentropy',name='regression')\n",
    "\n",
    "model=tflearn.DNN(out,tensorboard_verbose=0)\n"
   ]
  },
  {
   "cell_type": "code",
   "execution_count": 4,
   "metadata": {},
   "outputs": [
    {
     "name": "stdout",
     "output_type": "stream",
     "text": [
      "Training Step: 7849  | total loss: \u001b[1m\u001b[32m0.03157\u001b[0m\u001b[0m | time: 25.658s\n",
      "| Adam | epoch: 050 | loss: 0.03157 - acc: 0.9975 -- iter: 09984/10000\n",
      "Training Step: 7850  | total loss: \u001b[1m\u001b[32m0.02842\u001b[0m\u001b[0m | time: 26.809s\n",
      "| Adam | epoch: 050 | loss: 0.02842 - acc: 0.9978 | val_loss: 0.20643 - val_acc: 0.9770 -- iter: 10000/10000\n",
      "--\n",
      "INFO:tensorflow:/home/hemanth/Downloads/new/model/cnn_model.tfl is not in all_model_checkpoint_paths. Manually adding it.\n",
      "INFO:tensorflow:/home/hemanth/Downloads/new/model/cnn_model.tfl.index\n",
      "INFO:tensorflow:0\n",
      "INFO:tensorflow:/home/hemanth/Downloads/new/model/cnn_model.tfl.meta\n",
      "INFO:tensorflow:200\n",
      "INFO:tensorflow:/home/hemanth/Downloads/new/model/cnn_model.tfl.data-00000-of-00001\n",
      "INFO:tensorflow:8300\n"
     ]
    }
   ],
   "source": [
    "# Shuffle Training Data\n",
    "x_train, y_train = shuffle(x_train, y_train, random_state=0)\n",
    "\n",
    "# Train model\n",
    "model.fit(x_train, y_train, n_epoch=50, validation_set = test_set, snapshot_step=100, show_metric=True)\n",
    "\n",
    "model.save(\"model/cnn_model.tfl\")"
   ]
  }
 ],
 "metadata": {
  "kernelspec": {
   "display_name": "Python 3 (ipykernel)",
   "language": "python",
   "name": "python3"
  },
  "language_info": {
   "codemirror_mode": {
    "name": "ipython",
    "version": 3
   },
   "file_extension": ".py",
   "mimetype": "text/x-python",
   "name": "python",
   "nbconvert_exporter": "python",
   "pygments_lexer": "ipython3",
   "version": "3.9.7"
  }
 },
 "nbformat": 4,
 "nbformat_minor": 2
}
